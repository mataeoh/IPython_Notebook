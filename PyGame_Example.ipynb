{
 "metadata": {
  "name": "",
  "signature": "sha256:dfb33765df58a329c199a3e618f842a3385aa84a72f9d9a19bfd84ae6a001672"
 },
 "nbformat": 3,
 "nbformat_minor": 0,
 "worksheets": [
  {
   "cells": [
    {
     "cell_type": "code",
     "collapsed": false,
     "input": [
      "import pygame\n",
      "from pygame.locals import *\n",
      " \n",
      "class App:\n",
      "    def __init__(self):\n",
      "        self._running = True\n",
      "        self._display_surf = None\n",
      "        self.size = self.weight, self.height = 640, 400\n",
      " \n",
      "    def on_init(self):\n",
      "        pygame.init()\n",
      "        self._display_surf = pygame.display.set_mode(self.size, pygame.HWSURFACE | pygame.DOUBLEBUF)\n",
      "        self._running = True\n",
      " \n",
      "    def on_event(self, event):\n",
      "        if event.type == pygame.QUIT:\n",
      "            self._running = False\n",
      "    def on_loop(self):\n",
      "        pass\n",
      "    def on_render(self):\n",
      "        pass\n",
      "    def on_cleanup(self):\n",
      "        pygame.quit()\n",
      " \n",
      "    def on_execute(self):\n",
      "        if self.on_init() == False:\n",
      "            self._running = False\n",
      " \n",
      "        while( self._running ):\n",
      "            for event in pygame.event.get():\n",
      "                self.on_event(event)\n",
      "            self.on_loop()\n",
      "            self.on_render()\n",
      "        self.on_cleanup()\n",
      " \n",
      "if __name__ == \"__main__\" :\n",
      "    theApp = App()\n",
      "    theApp.on_execute()"
     ],
     "language": "python",
     "metadata": {},
     "outputs": [],
     "prompt_number": 1
    }
   ],
   "metadata": {}
  }
 ]
}