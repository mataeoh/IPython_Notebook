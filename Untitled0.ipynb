{
 "metadata": {
  "name": "",
  "signature": "sha256:7c25a78765a539e55d91a0fb67881c05933075785af3d658b6b63690723190c5"
 },
 "nbformat": 3,
 "nbformat_minor": 0,
 "worksheets": [
  {
   "cells": [
    {
     "cell_type": "heading",
     "level": 1,
     "metadata": {
      "slideshow": {
       "slide_type": "notes"
      }
     },
     "source": [
      "Headline"
     ]
    },
    {
     "cell_type": "heading",
     "level": 3,
     "metadata": {
      "slideshow": {
       "slide_type": "subslide"
      }
     },
     "source": [
      "Next line"
     ]
    },
    {
     "cell_type": "code",
     "collapsed": true,
     "input": [
      "!pip install sympy"
     ],
     "language": "python",
     "metadata": {},
     "outputs": [
      {
       "output_type": "stream",
       "stream": "stdout",
       "text": [
        "Downloading/unpacking sympy\n",
        "  Running setup.py (path:c:\\users\\taeromi\\appdata\\local\\temp\\pip_build_Taeromi\\sympy\\setup.py) egg_info for package sympy\n",
        "    \n",
        "Installing collected packages: sympy\n",
        "  Running setup.py install for sympy\n",
        "    \n",
        "Successfully installed sympy\n",
        "Cleaning up...\n"
       ]
      }
     ],
     "prompt_number": 1
    },
    {
     "cell_type": "code",
     "collapsed": true,
     "input": [
      "import os\n",
      "os.path.abspath('.')"
     ],
     "language": "python",
     "metadata": {},
     "outputs": [
      {
       "metadata": {},
       "output_type": "pyout",
       "prompt_number": 2,
       "text": [
        "'D:\\\\IPython_Notebook'"
       ]
      }
     ],
     "prompt_number": 2
    },
    {
     "cell_type": "code",
     "collapsed": true,
     "input": [
      "%pylab inline"
     ],
     "language": "python",
     "metadata": {},
     "outputs": [
      {
       "output_type": "stream",
       "stream": "stdout",
       "text": [
        "Populating the interactive namespace from numpy and matplotlib\n"
       ]
      }
     ],
     "prompt_number": 4
    },
    {
     "cell_type": "code",
     "collapsed": true,
     "input": [
      "a=2"
     ],
     "language": "python",
     "metadata": {},
     "outputs": [],
     "prompt_number": 14
    },
    {
     "cell_type": "code",
     "collapsed": true,
     "input": [
      "x=linspace(0, pi* 2)\n",
      "plot(x, cos(x))"
     ],
     "language": "python",
     "metadata": {},
     "outputs": [
      {
       "metadata": {},
       "output_type": "pyout",
       "prompt_number": 15,
       "text": [
        "[<matplotlib.lines.Line2D at 0x65f8150>]"
       ]
      },
      {
       "metadata": {},
       "output_type": "display_data",
       "png": "[encoded data removed]",
       "text": [
        "<matplotlib.figure.Figure at 0x5ceaf70>"
       ]
      }
     ],
     "prompt_number": 15
    },
    {
     "cell_type": "code",
     "collapsed": true,
     "input": [
      "a"
     ],
     "language": "python",
     "metadata": {},
     "outputs": [
      {
       "metadata": {},
       "output_type": "pyout",
       "prompt_number": 17,
       "text": [
        "2"
       ]
      }
     ],
     "prompt_number": 17
    },
    {
     "cell_type": "code",
     "collapsed": true,
     "input": [
      "import pygame\n",
      "from pygame.locals import *\n",
      " \n",
      "class App:\n",
      "    def __init__(self):\n",
      "        self._running = True\n",
      "        self._display_surf = None\n",
      "        self.size = self.weight, self.height = 640, 400\n",
      " \n",
      "    def on_init(self):\n",
      "        pygame.init()\n",
      "        self._display_surf = pygame.display.set_mode(self.size, pygame.HWSURFACE | pygame.DOUBLEBUF)\n",
      "        self._running = True\n",
      " \n",
      "    def on_event(self, event):\n",
      "        if event.type == pygame.QUIT:\n",
      "            self._running = False\n",
      "    def on_loop(self):\n",
      "        pass\n",
      "    def on_render(self):\n",
      "        pass\n",
      "    def on_cleanup(self):\n",
      "        pygame.quit()\n",
      " \n",
      "    def on_execute(self):\n",
      "        if self.on_init() == False:\n",
      "            self._running = False\n",
      " \n",
      "        while( self._running ):\n",
      "            for event in pygame.event.get():\n",
      "                self.on_event(event)\n",
      "            self.on_loop()\n",
      "            self.on_render()\n",
      "        self.on_cleanup()\n",
      " \n",
      "if __name__ == \"__main__\" :\n",
      "    theApp = App()\n",
      "    theApp.on_execute()"
     ],
     "language": "python",
     "metadata": {},
     "outputs": [],
     "prompt_number": 1
    },
    {
     "cell_type": "code",
     "collapsed": true,
     "input": [
      "%edit D:\\\\Development\\\\WorkSpace\\\\PythonExamples\\\\PyOpenGL\\\\NeHe\\\\lesson11.py"
     ],
     "language": "python",
     "metadata": {},
     "outputs": [],
     "prompt_number": 8
    },
    {
     "cell_type": "code",
     "collapsed": true,
     "input": [],
     "language": "python",
     "metadata": {},
     "outputs": [],
     "prompt_number": 8
    },
    {
     "cell_type": "code",
     "collapsed": true,
     "input": [],
     "language": "python",
     "metadata": {},
     "outputs": []
    }
   ],
   "metadata": {}
  }
 ]
}