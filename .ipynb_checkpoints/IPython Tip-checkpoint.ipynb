{
 "metadata": {
  "name": "",
  "signature": "sha256:887aa363463d96ceee8b501276f752cba5f7421d737ea2db39f21b378e69d508"
 },
 "nbformat": 3,
 "nbformat_minor": 0,
 "worksheets": [
  {
   "cells": [
    {
     "cell_type": "heading",
     "level": 1,
     "metadata": {},
     "source": [
      "Toggle Input \ubc84\ud2bc \ucd94\uac00\ud558\uae30"
     ]
    },
    {
     "cell_type": "raw",
     "metadata": {},
     "source": [
      "custom.js \ud30c\uc77c\uc744 \uc5f4\uace0 \uc544\ub798\uc758 \ucf54\ub4dc\ub97c \ubd99\uc5ec\ub123\ub294\ub2e4. (\uacbd\ub85c : C:\\Users\\Taeromi\\.ipython\\profile_default\\static\\custom\\custom.js)"
     ]
    },
    {
     "cell_type": "raw",
     "metadata": {},
     "source": [
      "// Toggle Input \ubc84\ud2bc\n",
      "$([IPython.events]).on('notebook_loaded.Notebook', function(){\n",
      "    IPython.toolbar.add_buttons_group([\n",
      "        {\n",
      "             'label'   : 'toggle input cells',\n",
      "             'icon'    : 'icon-refresh', \n",
      "             'callback': function(){$('.input').slideToggle()}\n",
      "        }\n",
      "    ]);\n",
      "});\n",
      "\n",
      "// qtconsole\uc744 \uc2e4\ud589\uc2dc\ud0a4\ub294 \uc2a4\ud06c\ub9bd\ud2b8\n",
      "$([IPython.events]).on('app_initialized.NotebookApp', function(){\n",
      "     IPython.toolbar.add_buttons_group([\n",
      "         {\n",
      "              'label'   : 'run qtconsole',\n",
      "              'icon'    : 'icon-terminal', // select your icon from http://fortawesome.github.io/Font-Awesome/icons\n",
      "              'callback': function () {\n",
      "                  IPython.notebook.kernel.execute('%qtconsole')\n",
      "              }\n",
      "         }\n",
      "         // add more button here if needed.\n",
      "         ]);\n",
      " });"
     ]
    }
   ],
   "metadata": {}
  }
 ]
}