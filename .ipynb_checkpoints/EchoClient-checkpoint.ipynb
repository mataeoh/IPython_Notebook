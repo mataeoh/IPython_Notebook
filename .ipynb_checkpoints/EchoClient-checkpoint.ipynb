{
 "metadata": {
  "name": "",
  "signature": "sha256:bcf5b7c15d1555ec6e96b6c01f40e5fb7034995cc248d7e3933b921c37741d85"
 },
 "nbformat": 3,
 "nbformat_minor": 0,
 "worksheets": []
}