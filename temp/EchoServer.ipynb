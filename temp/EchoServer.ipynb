{
 "metadata": {
  "name": "",
  "signature": "sha256:db0dadfc78d1af7f7cf7be023afe78d0caa032606105f6ca0adcd2188c203a50"
 },
 "nbformat": 3,
 "nbformat_minor": 0,
 "worksheets": [
  {
   "cells": [
    {
     "cell_type": "heading",
     "level": 6,
     "metadata": {},
     "source": [
      "Server"
     ]
    },
    {
     "cell_type": "code",
     "collapsed": true,
     "input": [
      "# Echo server program\n",
      "import socket\n",
      "\n",
      "HOST = ''                   # Symbolic name meaning all available interfaces\n",
      "PORT = 50007              # Arbitrary non-privileged port\n",
      "s = socket.socket(socket.AF_INET, socket.SOCK_STREAM)\n",
      "s.bind((HOST, PORT))\n",
      "s.listen(1)\n",
      "conn, addr = s.accept()\n",
      "\n",
      "print 'Connected by', addr\n",
      "\n",
      "while 1:\n",
      "    data = conn.recv(1024)\n",
      "    if data:\n",
      "        conn.sendall(data)\n",
      "        print 'Server Recieved from', addr, repr(data)\n",
      "    if data == \"Break\":\n",
      "        break\n",
      "\n",
      "conn.close()"
     ],
     "language": "python",
     "metadata": {},
     "outputs": []
    },
    {
     "cell_type": "code",
     "collapsed": false,
     "input": [],
     "language": "python",
     "metadata": {},
     "outputs": []
    }
   ],
   "metadata": {}
  }
 ]
}