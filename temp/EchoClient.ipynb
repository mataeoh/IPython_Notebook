{
 "metadata": {
  "name": "",
  "signature": "sha256:2f55cf9ee317bfa5914179ca9536424187c904c8405f745ded746fae3526415d"
 },
 "nbformat": 3,
 "nbformat_minor": 0,
 "worksheets": [
  {
   "cells": [
    {
     "cell_type": "code",
     "collapsed": false,
     "input": [
      "# Echo client program\n",
      "import socket\n",
      "\n",
      "HOST = socket.gethostname()                # The remote host\n",
      "PORT = 50007              # The same port as used by the server\n",
      "s = socket.socket(socket.AF_INET, socket.SOCK_STREAM)\n",
      "s.connect((HOST, PORT))\n",
      "s.sendall('Hello, world')\n",
      "\n",
      "while 1:\n",
      "    data = s.recv(1024)\n",
      "    if data:\n",
      "        s.close()\n",
      "        print 'Received from server : ', repr(data)\n",
      "        break\n"
     ],
     "language": "python",
     "metadata": {},
     "outputs": [
      {
       "output_type": "stream",
       "stream": "stdout",
       "text": [
        "Received from server :  'Hello, world'\n"
       ]
      }
     ],
     "prompt_number": 5
    }
   ],
   "metadata": {}
  }
 ]
}